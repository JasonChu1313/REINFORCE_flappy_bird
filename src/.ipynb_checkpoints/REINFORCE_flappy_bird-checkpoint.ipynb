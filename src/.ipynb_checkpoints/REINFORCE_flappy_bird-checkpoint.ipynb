{
 "cells": [
  {
   "cell_type": "code",
   "execution_count": 1,
   "metadata": {},
   "outputs": [
    {
     "name": "stdout",
     "output_type": "stream",
     "text": [
      "['', '/Users/siyuzhu/Public/codelibrary/anaconda2/envs/DRLAs1/lib/python35.zip', '/Users/siyuzhu/Public/codelibrary/anaconda2/envs/DRLAs1/lib/python3.5', '/Users/siyuzhu/Public/codelibrary/anaconda2/envs/DRLAs1/lib/python3.5/plat-darwin', '/Users/siyuzhu/Public/codelibrary/anaconda2/envs/DRLAs1/lib/python3.5/lib-dynload', '/Users/siyuzhu/Public/codelibrary/anaconda2/envs/DRLAs1/lib/python3.5/site-packages', '/Users/siyuzhu/Public/codelibrary/anaconda2/envs/DRLAs1/lib/python3.5/site-packages/Mako-1.0.7-py3.5.egg', '/Users/siyuzhu/Public/codelibrary/anaconda2/envs/DRLAs1/lib/python3.5/site-packages/IPython/extensions', '/Users/siyuzhu/.ipython', '/Users/siyuzhu/PycharmProjects/REINFORCE_flappy_bird/', '/Users/siyuzhu/PycharmProjects/REINFORCE_flappy_bird/']\n"
     ]
    },
    {
     "ename": "ImportError",
     "evalue": "No module named 'wrapped_flappy_bird'",
     "output_type": "error",
     "traceback": [
      "\u001b[0;31m---------------------------------------------------------------------------\u001b[0m",
      "\u001b[0;31mImportError\u001b[0m                               Traceback (most recent call last)",
      "\u001b[0;32m<ipython-input-1-637e2044f003>\u001b[0m in \u001b[0;36m<module>\u001b[0;34m()\u001b[0m\n\u001b[1;32m     11\u001b[0m \u001b[0msys\u001b[0m\u001b[0;34m.\u001b[0m\u001b[0mpath\u001b[0m\u001b[0;34m.\u001b[0m\u001b[0mappend\u001b[0m\u001b[0;34m(\u001b[0m\u001b[0;34m'/Users/siyuzhu/PycharmProjects/REINFORCE_flappy_bird/'\u001b[0m\u001b[0;34m)\u001b[0m\u001b[0;34m\u001b[0m\u001b[0m\n\u001b[1;32m     12\u001b[0m \u001b[0mprint\u001b[0m \u001b[0;34m(\u001b[0m\u001b[0msys\u001b[0m\u001b[0;34m.\u001b[0m\u001b[0mpath\u001b[0m\u001b[0;34m)\u001b[0m\u001b[0;34m\u001b[0m\u001b[0m\n\u001b[0;32m---> 13\u001b[0;31m \u001b[0;32mimport\u001b[0m \u001b[0mwrapped_flappy_bird\u001b[0m \u001b[0;32mas\u001b[0m \u001b[0mgame\u001b[0m\u001b[0;34m\u001b[0m\u001b[0m\n\u001b[0m\u001b[1;32m     14\u001b[0m \u001b[0;34m\u001b[0m\u001b[0m\n\u001b[1;32m     15\u001b[0m \u001b[0;32mfrom\u001b[0m \u001b[0mkeras\u001b[0m\u001b[0;34m.\u001b[0m\u001b[0mmodels\u001b[0m \u001b[0;32mimport\u001b[0m \u001b[0mSequential\u001b[0m\u001b[0;34m\u001b[0m\u001b[0m\n",
      "\u001b[0;31mImportError\u001b[0m: No module named 'wrapped_flappy_bird'"
     ]
    }
   ],
   "source": [
    "from __future__ import print_function\n",
    "import os,sys\n",
    "\n",
    "import matplotlib.pyplot as plt\n",
    "import numpy as np\n",
    "from collections import deque\n",
    "import random\n",
    "import os,sys\n",
    "\n",
    "BASE_DIR = '/Users/siyuzhu/PycharmProjects/REINFORCE_flappy_bird/game'\n",
    "sys.path.append(BASE_DIR)\n",
    "import wrapped_flappy_bird as game\n",
    "\n",
    "from keras.models import Sequential\n",
    "from keras.layers.core import Dense, Dropout, Activation, Flatten\n",
    "from keras.layers.convolutional import Convolution2D, MaxPooling2D\n",
    "from keras.optimizers import SGD, Adam\n",
    "import tensorflow as tf\n",
    "\n",
    "ACTION_PER_FRAME = 1\n",
    "IMAGE_ROWS,IMAGE_COLS = 80,80\n",
    "IMAGE_CHANNELS = 4\n",
    "ACTION_SIZE = 2"
   ]
  },
  {
   "cell_type": "code",
   "execution_count": 17,
   "metadata": {},
   "outputs": [
    {
     "data": {
      "image/png": "[encoded data removed]",
      "text/plain": [
       "<matplotlib.figure.Figure at 0x1101b1518>"
      ]
     },
     "metadata": {},
     "output_type": "display_data"
    }
   ],
   "source": [
    "#BASE_DIR1 = os.path.dirname(os.path.abspath(__file__))\n",
    "#PROJECT_DIR1 = os.path.dirname(BASE_DIR)\n",
    "PROJECT_DIR = \"/Users/siyuzhu/PycharmProjects/REINFORCE_flappy_bird/\"\n",
    "q_learning_record_path = PROJECT_DIR + \"/resource/process_record.txt\"\n",
    "\n",
    "# plot living steps for each game\n",
    "def plot_living_steps(file_path):\n",
    "    y_value = list()\n",
    "    with open(file_path,\"r\") as f:\n",
    "        result = f.readline()\n",
    "        y_value = [int(item) for item in result.split(\"\t\") if item.isnumeric()]      \n",
    "    plt.plot(y_value)\n",
    "    plt.ylabel(\"living steps\")\n",
    "    plt.show()\n",
    "\n",
    "plot_living_steps(q_learning_record_path)"
   ]
  },
  {
   "cell_type": "code",
   "execution_count": null,
   "metadata": {},
   "outputs": [],
   "source": []
  }
 ],
 "metadata": {
  "kernelspec": {
   "display_name": "Python 3",
   "language": "python",
   "name": "python3"
  },
  "language_info": {
   "codemirror_mode": {
    "name": "ipython",
    "version": 3
   },
   "file_extension": ".py",
   "mimetype": "text/x-python",
   "name": "python",
   "nbconvert_exporter": "python",
   "pygments_lexer": "ipython3",
   "version": "3.5.4"
  }
 },
 "nbformat": 4,
 "nbformat_minor": 2
}
